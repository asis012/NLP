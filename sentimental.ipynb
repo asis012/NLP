{
 "cells": [
  {
   "cell_type": "code",
   "execution_count": 1,
   "metadata": {},
   "outputs": [],
   "source": [
    "import tweepy\n",
    "import re\n",
    "import pickle\n",
    "from tweepy import OAuthHandler\n",
    "import numbers\n",
    "import re\n",
    "import pickle\n",
    "import nltk\n",
    "from nltk.corpus import stopwords\n",
    "\n"
   ]
  },
  {
   "cell_type": "code",
   "execution_count": 4,
   "metadata": {},
   "outputs": [],
   "source": [
    "consumer_key = \"J7P3Q6Q0Rj8haRg9hLTcMvXOC\"\n",
    "consumer_secret = \"50HD93XeysWb0XBA5qOowjBsPBUkmxZzLj4K6TfnfAIZ7WchvT\"\n",
    "access_token = \"3283362782-mcSN3dklM5nO40o2PHHO0053ljvRhUn9WxHeMRo\"\n",
    "access_secret = \"m8wEtPy35GMOzy30PkCQR2fewwcTFrXxfonCbgL0DilVc\""
   ]
  },
  {
   "cell_type": "code",
   "execution_count": 5,
   "metadata": {},
   "outputs": [],
   "source": [
    "from tweepy.auth import OAuthHandler\n",
    "auth = OAuthHandler(consumer_key, consumer_secret)\n",
    "auth.set_access_token(access_token, access_secret)"
   ]
  },
  {
   "cell_type": "code",
   "execution_count": 6,
   "metadata": {},
   "outputs": [
    {
     "data": {
      "text/plain": [
       "<tweepy.api.API at 0x121cec0f0>"
      ]
     },
     "execution_count": 6,
     "metadata": {},
     "output_type": "execute_result"
    }
   ],
   "source": [
    "args = ['facebook']\n",
    "api = tweepy.API(auth,timeout=10)\n",
    "api"
   ]
  },
  {
   "cell_type": "code",
   "execution_count": 7,
   "metadata": {},
   "outputs": [
    {
     "data": {
      "text/plain": [
       "1"
      ]
     },
     "execution_count": 7,
     "metadata": {},
     "output_type": "execute_result"
    }
   ],
   "source": [
    "list_tweets = []\n",
    "query = args[0]\n",
    "len(args)"
   ]
  },
  {
   "cell_type": "code",
   "execution_count": 9,
   "metadata": {},
   "outputs": [
    {
     "data": {
      "text/plain": [
       "Status(_api=<tweepy.api.API object at 0x121cec0f0>, _json={'created_at': 'Wed Jun 12 08:01:20 +0000 2019', 'id': 1138717909390450688, 'id_str': '1138717909390450688', 'text': 'I find it odd that some people critique Facebook loudly on new sites, yet continue to use it. Hypocrisy much? #DeleteFacebook', 'truncated': False, 'entities': {'hashtags': [{'text': 'DeleteFacebook', 'indices': [110, 125]}], 'symbols': [], 'user_mentions': [], 'urls': []}, 'metadata': {'iso_language_code': 'en', 'result_type': 'recent'}, 'source': '<a href=\"http://choqok.kde.org/\" rel=\"nofollow\">Choqok</a>', 'in_reply_to_status_id': None, 'in_reply_to_status_id_str': None, 'in_reply_to_user_id': None, 'in_reply_to_user_id_str': None, 'in_reply_to_screen_name': None, 'user': {'id': 44207412, 'id_str': '44207412', 'name': 'Miro Collas', 'screen_name': 'MiroCollas', 'location': 'USA', 'description': 'Tweeting and RTing stuff of interest. RTs do not imply agreement.', 'url': None, 'entities': {'description': {'urls': []}}, 'protected': False, 'followers_count': 579, 'friends_count': 161, 'listed_count': 114, 'created_at': 'Tue Jun 02 21:02:43 +0000 2009', 'favourites_count': 8088, 'utc_offset': None, 'time_zone': None, 'geo_enabled': False, 'verified': False, 'statuses_count': 121191, 'lang': 'en', 'contributors_enabled': False, 'is_translator': False, 'is_translation_enabled': False, 'profile_background_color': '000000', 'profile_background_image_url': 'http://abs.twimg.com/images/themes/theme9/bg.gif', 'profile_background_image_url_https': 'https://abs.twimg.com/images/themes/theme9/bg.gif', 'profile_background_tile': False, 'profile_image_url': 'http://pbs.twimg.com/profile_images/951642449243525120/PmUSZRGL_normal.jpg', 'profile_image_url_https': 'https://pbs.twimg.com/profile_images/951642449243525120/PmUSZRGL_normal.jpg', 'profile_link_color': '9E7D57', 'profile_sidebar_border_color': '1D0A05', 'profile_sidebar_fill_color': '1D0A05', 'profile_text_color': '9B7147', 'profile_use_background_image': True, 'has_extended_profile': False, 'default_profile': False, 'default_profile_image': False, 'following': False, 'follow_request_sent': False, 'notifications': False, 'translator_type': 'none'}, 'geo': None, 'coordinates': None, 'place': None, 'contributors': None, 'is_quote_status': False, 'retweet_count': 0, 'favorite_count': 0, 'favorited': False, 'retweeted': False, 'lang': 'en'}, created_at=datetime.datetime(2019, 6, 12, 8, 1, 20), id=1138717909390450688, id_str='1138717909390450688', text='I find it odd that some people critique Facebook loudly on new sites, yet continue to use it. Hypocrisy much? #DeleteFacebook', truncated=False, entities={'hashtags': [{'text': 'DeleteFacebook', 'indices': [110, 125]}], 'symbols': [], 'user_mentions': [], 'urls': []}, metadata={'iso_language_code': 'en', 'result_type': 'recent'}, source='Choqok', source_url='http://choqok.kde.org/', in_reply_to_status_id=None, in_reply_to_status_id_str=None, in_reply_to_user_id=None, in_reply_to_user_id_str=None, in_reply_to_screen_name=None, author=User(_api=<tweepy.api.API object at 0x121cec0f0>, _json={'id': 44207412, 'id_str': '44207412', 'name': 'Miro Collas', 'screen_name': 'MiroCollas', 'location': 'USA', 'description': 'Tweeting and RTing stuff of interest. RTs do not imply agreement.', 'url': None, 'entities': {'description': {'urls': []}}, 'protected': False, 'followers_count': 579, 'friends_count': 161, 'listed_count': 114, 'created_at': 'Tue Jun 02 21:02:43 +0000 2009', 'favourites_count': 8088, 'utc_offset': None, 'time_zone': None, 'geo_enabled': False, 'verified': False, 'statuses_count': 121191, 'lang': 'en', 'contributors_enabled': False, 'is_translator': False, 'is_translation_enabled': False, 'profile_background_color': '000000', 'profile_background_image_url': 'http://abs.twimg.com/images/themes/theme9/bg.gif', 'profile_background_image_url_https': 'https://abs.twimg.com/images/themes/theme9/bg.gif', 'profile_background_tile': False, 'profile_image_url': 'http://pbs.twimg.com/profile_images/951642449243525120/PmUSZRGL_normal.jpg', 'profile_image_url_https': 'https://pbs.twimg.com/profile_images/951642449243525120/PmUSZRGL_normal.jpg', 'profile_link_color': '9E7D57', 'profile_sidebar_border_color': '1D0A05', 'profile_sidebar_fill_color': '1D0A05', 'profile_text_color': '9B7147', 'profile_use_background_image': True, 'has_extended_profile': False, 'default_profile': False, 'default_profile_image': False, 'following': False, 'follow_request_sent': False, 'notifications': False, 'translator_type': 'none'}, id=44207412, id_str='44207412', name='Miro Collas', screen_name='MiroCollas', location='USA', description='Tweeting and RTing stuff of interest. RTs do not imply agreement.', url=None, entities={'description': {'urls': []}}, protected=False, followers_count=579, friends_count=161, listed_count=114, created_at=datetime.datetime(2009, 6, 2, 21, 2, 43), favourites_count=8088, utc_offset=None, time_zone=None, geo_enabled=False, verified=False, statuses_count=121191, lang='en', contributors_enabled=False, is_translator=False, is_translation_enabled=False, profile_background_color='000000', profile_background_image_url='http://abs.twimg.com/images/themes/theme9/bg.gif', profile_background_image_url_https='https://abs.twimg.com/images/themes/theme9/bg.gif', profile_background_tile=False, profile_image_url='http://pbs.twimg.com/profile_images/951642449243525120/PmUSZRGL_normal.jpg', profile_image_url_https='https://pbs.twimg.com/profile_images/951642449243525120/PmUSZRGL_normal.jpg', profile_link_color='9E7D57', profile_sidebar_border_color='1D0A05', profile_sidebar_fill_color='1D0A05', profile_text_color='9B7147', profile_use_background_image=True, has_extended_profile=False, default_profile=False, default_profile_image=False, following=False, follow_request_sent=False, notifications=False, translator_type='none'), user=User(_api=<tweepy.api.API object at 0x121cec0f0>, _json={'id': 44207412, 'id_str': '44207412', 'name': 'Miro Collas', 'screen_name': 'MiroCollas', 'location': 'USA', 'description': 'Tweeting and RTing stuff of interest. RTs do not imply agreement.', 'url': None, 'entities': {'description': {'urls': []}}, 'protected': False, 'followers_count': 579, 'friends_count': 161, 'listed_count': 114, 'created_at': 'Tue Jun 02 21:02:43 +0000 2009', 'favourites_count': 8088, 'utc_offset': None, 'time_zone': None, 'geo_enabled': False, 'verified': False, 'statuses_count': 121191, 'lang': 'en', 'contributors_enabled': False, 'is_translator': False, 'is_translation_enabled': False, 'profile_background_color': '000000', 'profile_background_image_url': 'http://abs.twimg.com/images/themes/theme9/bg.gif', 'profile_background_image_url_https': 'https://abs.twimg.com/images/themes/theme9/bg.gif', 'profile_background_tile': False, 'profile_image_url': 'http://pbs.twimg.com/profile_images/951642449243525120/PmUSZRGL_normal.jpg', 'profile_image_url_https': 'https://pbs.twimg.com/profile_images/951642449243525120/PmUSZRGL_normal.jpg', 'profile_link_color': '9E7D57', 'profile_sidebar_border_color': '1D0A05', 'profile_sidebar_fill_color': '1D0A05', 'profile_text_color': '9B7147', 'profile_use_background_image': True, 'has_extended_profile': False, 'default_profile': False, 'default_profile_image': False, 'following': False, 'follow_request_sent': False, 'notifications': False, 'translator_type': 'none'}, id=44207412, id_str='44207412', name='Miro Collas', screen_name='MiroCollas', location='USA', description='Tweeting and RTing stuff of interest. RTs do not imply agreement.', url=None, entities={'description': {'urls': []}}, protected=False, followers_count=579, friends_count=161, listed_count=114, created_at=datetime.datetime(2009, 6, 2, 21, 2, 43), favourites_count=8088, utc_offset=None, time_zone=None, geo_enabled=False, verified=False, statuses_count=121191, lang='en', contributors_enabled=False, is_translator=False, is_translation_enabled=False, profile_background_color='000000', profile_background_image_url='http://abs.twimg.com/images/themes/theme9/bg.gif', profile_background_image_url_https='https://abs.twimg.com/images/themes/theme9/bg.gif', profile_background_tile=False, profile_image_url='http://pbs.twimg.com/profile_images/951642449243525120/PmUSZRGL_normal.jpg', profile_image_url_https='https://pbs.twimg.com/profile_images/951642449243525120/PmUSZRGL_normal.jpg', profile_link_color='9E7D57', profile_sidebar_border_color='1D0A05', profile_sidebar_fill_color='1D0A05', profile_text_color='9B7147', profile_use_background_image=True, has_extended_profile=False, default_profile=False, default_profile_image=False, following=False, follow_request_sent=False, notifications=False, translator_type='none'), geo=None, coordinates=None, place=None, contributors=None, is_quote_status=False, retweet_count=0, favorite_count=0, favorited=False, retweeted=False, lang='en')"
      ]
     },
     "execution_count": 9,
     "metadata": {},
     "output_type": "execute_result"
    }
   ],
   "source": [
    "if len(args)==1:\n",
    "    for status in tweepy.Cursor(api.search, q=query+\" -filter:retweets\",lang='en',result_type=\"recent\").items(100):\n",
    "        list_tweets.append(status.text)\n",
    " "
   ]
  },
  {
   "cell_type": "code",
   "execution_count": 10,
   "metadata": {},
   "outputs": [
    {
     "data": {
      "text/plain": [
       "['@JKgrievance Few days back this happened in Akhnoor. We are getting power less than 12 hours a day and that too wit… https://t.co/AZBkx4r8EN',\n",
       " 'Tonight we are on https://t.co/uOOLuKGa7J',\n",
       " '@GillPrincePhoto Hi I can’t see the group “Photography in Milton Keynes” on Facebook.',\n",
       " 'My new best friend is the studio director of @Vertigo_Games, great night at the Facebook gaming party.',\n",
       " 'As u got some free time please try to do\" Facebook live session\" for ur \"Jaaan o jigrz\"\\nWe all have been waiting fo… https://t.co/ABTTgkk6eD',\n",
       " 'In August 2013, it all began with an all consuming frustration to provide value-for-money, ethically &amp; responsibly,… https://t.co/O3HuIck6H5',\n",
       " '@itstommyinnit @AFL Also the BetEasy sponsored show you publish on Facebook with Campbell Brown and Wayne Carey tal… https://t.co/Z1AtgkndWs',\n",
       " 'Update June 12, 2019\\nAnnouncing the tech support automatic reply system and new WP plugins automatic patching. Bugf… https://t.co/9R1qpjxcSH',\n",
       " 'Check out the June issue of the fabulous \\'Celtic Life\\' magazine for my article which asks \"Do we really need Celtic… https://t.co/HAAQ2786LU',\n",
       " '\"Why is Nancy Pelosi ignoring Facebook CEO Mark Zuckerberg?\" via FOX NEWS https://t.co/yoLtscBo1r']"
      ]
     },
     "execution_count": 10,
     "metadata": {},
     "output_type": "execute_result"
    }
   ],
   "source": [
    "list_tweets[0:10]"
   ]
  },
  {
   "cell_type": "code",
   "execution_count": 12,
   "metadata": {},
   "outputs": [],
   "source": [
    "from sklearn.datasets import load_files\n",
    "with open('/Users/ashishgyawali/tfidfmodel.pickle','rb') as f:\n",
    "    vectorizer = pickle.load(f)"
   ]
  },
  {
   "cell_type": "code",
   "execution_count": 13,
   "metadata": {},
   "outputs": [],
   "source": [
    "with open('/Users/ashishgyawali/clasifier.pickle','rb') as f:\n",
    "    clf = pickle.load(f)"
   ]
  },
  {
   "cell_type": "code",
   "execution_count": 32,
   "metadata": {},
   "outputs": [],
   "source": [
    "clf.predict(vectorizer.transform(['I am bad']))\n",
    "total_pos = 0\n",
    "total_neg = 0"
   ]
  },
  {
   "cell_type": "code",
   "execution_count": 34,
   "metadata": {},
   "outputs": [
    {
     "name": "stdout",
     "output_type": "stream",
     "text": [
      " jkgrievance few days back this happened in akhnoor we are getting power le than hours a day and that too wit  : [1]\n",
      "tonight we are on  : [1]\n",
      " gillprincephoto hi i can t see the group photography in milton keynes on facebook  : [1]\n",
      "my new be friend is the studio director of vertigo_games great night at the facebook gaming party  : [1]\n",
      "as u got some free time plea try to do facebook live session for ur jaaan o jigrz we all have been waiting fo  : [0]\n",
      "in augu it all began with an all consuming frustration to provide value for money ethically amp responsibly  : [1]\n",
      " itstommyinnit afl al the betea sponsored show you publi on facebook with campbell brown and wayne carey tal  : [1]\n",
      "update june announcing the tech support automatic reply system and new wp plugins automatic patching bugf  : [1]\n",
      "check out the june issue of the fabulous celtic life magazine for my article which asks do we really need celtic  : [1]\n",
      " why is nancy pelo ignoring facebook ceo mark zuckerberg via fox news  : [1]\n",
      " facebook says new portal devices launching in the fall via fox news  : [1]\n",
      " blueraventales hybrid when the parents are bu on facebook they don t have time for that kind of stuff that  : [1]\n",
      "hi all nicole here to cover our facebook and twitter pages plea get in touch with any saas queries you may have  : [1]\n",
      "south sydney rabbitohs insider round  : [1]\n",
      "facebook revives its mobile data gathering program with a new app  : [1]\n",
      "facebook launches app that will pay users for their data  : [0]\n",
      "californication authorities raid christian schools  : [1]\n",
      "dating chat dating sites ireland meet busty girls facebook cupid www six com  : [0]\n",
      "hurm  : [1]\n",
      "what do you think  : [1]\n",
      " d m rnin  : [1]\n",
      " dvagainstmen holy shit this guy charles anthony vella his facebook page for dv again men has likes fu  : [1]\n",
      "how often are you allowed to buy the mg one by law i only a becau my yr old son went to his dr end of ma  : [1]\n",
      "facebook whatsup and telegram are down again in astana how can anyone believe that blocking social media would h  : [0]\n",
      "bonjour have a nice day gt vos annonces gratuites ici sur https https t co hcjupbrgu by e bizne  : [1]\n",
      "this makes me pretty pissed at the hopele state government high time to usurp the tyrant  : [1]\n",
      "new stock alert welcome to sugaempire fabrics it is your wholesale amp retail platform be part of our distrib  : [1]\n",
      "ver psalm he sent forth his word and healed them he rescued them from the pit your wellbeing is  : [1]\n",
      "the human brain starts working when you were born but it stops working when your wife asks you where were you  : [1]\n",
      "plea don t mind me i am healing on my broken heart i am out on the streets telling people is better being alone i  : [1]\n",
      "what it is like to live with selective muti  : [1]\n",
      "source facebook btsaniversary bts  : [1]\n",
      " josephmdur some insights are available from tools like similarweb eg here are upstream sources of traffic to d  : [1]\n",
      "le we forget the poster boys of ejk kalayaan pa more  : [1]\n",
      " i normally do this but seeing someone el do it it is ju crazy  : [0]\n",
      "type your tweet  : [0]\n",
      " jonathancreaser yes we ll be posting on our timeline meaning twitter and facebook sianiece : [1]\n",
      "xrp is safe from facebook s coin but bitcoin btc is reportedly threatened bitcoin btc facebook : [1]\n",
      "coming up to three years i want to know what diet i was on at the time it is all gone out the window now  : [0]\n",
      "our u boys took part in the clann na banna tournament on saturday pa they qualified for the cup semi final aft  : [1]\n",
      " zuwooni my heart is broken my ikonic friends are crying in my facebook messenger  : [1]\n",
      " btsfesta bts profile ver https t co nf eq s btsprofile 다시쓰는프로필 우리가쓰는프로필  : [1]\n",
      "pa heart react po need lang po for project thankyou support my beloved classmate for her coming pageant  : [0]\n",
      "the hou judiciary committee is launching its investigation into the market dominance of tech giants such as googl  : [1]\n",
      "clarification strained by unlike by facebook our ha tag site slogan actual tweet link structured tweets follow message not grammar : [1]\n",
      " vengefulhuman friend it seems like you re distrustful of me and i get it but you don t need to be i m dealin  : [0]\n",
      " what everyone should know about facebook s foray into cryptocurrency for better or wor fb is in the  : [0]\n",
      "the sal concert of the year don t mi it they are in tunisia now and very soon in e d i n b u r g h h a v a n  : [1]\n",
      "tuesday juggling spinning manipulation amp general madne at theragfactory spinning  : [1]\n",
      "happy days  : [1]\n",
      "facebook will compensate android users for running an app that constantly reports which other apps you re using  : [1]\n",
      "shambhulaal video clearly showed he was not circumcised he is not farid al real guy was uk based indian peo  : [0]\n",
      "we can only hope and pray the elephants are okay  : [1]\n",
      "surely they have disbelieved who say allah is the messiah ie jesus son of maryam mary but the messia  : [1]\n",
      "hafsat abiola to president buhari if anyone had told the abiola family that it is you who would do us this honou  : [1]\n",
      "at somerset county cricket club  : [0]\n",
      " quick search and i find out this guy s an american comedian it is funny or ironic how someone like this can  : [1]\n",
      "top story this deepfake of mark zuckerberg tests facebook s fake video policies vice https t co ekebvvu da  : [0]\n",
      "time flies  : [1]\n",
      " josephfcox oh my god artists uploaded a deep fake of mark zuckerberg to instagram saying he is in control of bi  : [1]\n",
      "this little guy is getting a lot of pre and rightly he is a genius and feels every note truly amazing  : [1]\n",
      "facebook twitter and major social media sites blocked amid liberian anti corruption prote  : [1]\n",
      "yes plea awesome idea  : [0]\n",
      " bangbang acoustic live in hour on  : [0]\n",
      "top story this deepfake of mark zuckerberg tests facebook s fake video policies vice https t co cjuuujlxa  : [0]\n",
      " age_uk bbc well said ricky noone wants our pensioners to have to pay this is the rich supporting the rich yet a  : [1]\n",
      "swearrrrrr or my friend guzzling a whole liter of water in one setting and me trying to explain dry drowning t  : [0]\n",
      "facebook twitter and major social media sites blocked amid liberian anti corruption prote  : [1]\n",
      "top story from rootnot ux experts this deepfake of mark zuckerberg tests facebook s fake video policies vice  : [0]\n",
      "top story this deepfake of mark zuckerberg tests facebook s fake video policies vice https t co ujh ycmexd  : [0]\n",
      " little multiple choice question the apostles is a left leaning cambridge society pa members included the sovi  : [0]\n",
      " proud of my religion  : [1]\n",
      "why would facebook block robintilbrook has he committed a lewd act to offend plea can someone explain  : [0]\n",
      "top story this deepfake of mark zuckerberg tests facebook s fake video policies vice https t co gca z ho y  : [0]\n",
      " promi i was sober  : [1]\n",
      " true  : [1]\n",
      " sconza_ what is facebook we bed kraaa : [1]\n",
      "casually scrolling through facebook and suddenly seeing this  : [1]\n",
      "top story this deepfake of mark zuckerberg tests facebook s fake video policies vice https t co qugzkzguzl  : [0]\n",
      "wei lin try it on your workplace  : [0]\n",
      "this deepfake of mark zuckerberg tests facebook s fake video policies vice https t co ln hoo l see more  : [0]\n",
      "us man becomes principal of the school he once cleaned facebook pages today news bulletin  : [1]\n",
      "this this man say he is being discriminated again a rich white man who now president lol  : [1]\n",
      "baby elephant takes fir wobbly steps facebook pages today news bulletin  : [1]\n",
      "what everyone should know about facebook s foray into cryptocurrency  : [0]\n",
      "scooby plz  : [1]\n",
      "how to grow your brand through facebook groups having a group in which you : [1]\n",
      "plea check the facebook page of zodiaque  : [1]\n",
      "the overturned vehicle on m southbound between j and j bicester is causing hour and a half delays from  : [0]\n",
      "gabriele grunewald runner who chronicled journey with cancer dies at facebook pages t  : [1]\n",
      "help me win this alva patio heater from ecodepot amp mrsola  : [1]\n",
      "indeed  : [1]\n",
      "join us july th there is room for up to people or ｒｓｖｐ here matsuyama ehime  : [1]\n",
      "on politics biden vs trump facebook pages today news bulletin  : [1]\n",
      "top story this deepfake of mark zuckerberg tests facebook s fake video policies vice https t co mktjagopng  : [0]\n",
      "love you raymond colin warwick x  : [1]\n",
      "this wonderful app gives acce to books  : [1]\n",
      "your wednesday briefing facebook pages today news bulletin  : [1]\n",
      "top story josephfcox oh my god artists uploaded a deep fake of mark zuckerberg to instagram saying he is in co  : [1]\n",
      " find it odd that some people critique facebook loudly on new sites yet continue to u it hypocri much deletefacebook : [1]\n"
     ]
    }
   ],
   "source": [
    "#preprocessing\n",
    "for tweet in list_tweets:\n",
    "    tweet = re.sub(r'^https://t.co/[a-z0-9A-Z]',' ',tweet)\n",
    "    tweet = re.sub(r'\\s+https://t.co/[a-z0-9A-Z]*\\s',' ',tweet)\n",
    "    tweet = re.sub(r'\\s+https://t.co/[a-z0-9A-Z]*$',' ',tweet)\n",
    "    tweet = tweet.lower()\n",
    "    tweet = re.sub(r\"that's\",\"that is\",tweet)\n",
    "    tweet = re.sub(r\"there's\",\"there is\",tweet)\n",
    "    tweet = re.sub(r\"what's\",\"what is\",tweet)\n",
    "    tweet = re.sub(r\"where's\",\"where is\",tweet)\n",
    "    tweet = re.sub(r\"it's\",\"it is\",tweet)\n",
    "    tweet = re.sub(r\"who's\",\"who is\",tweet)\n",
    "    tweet = re.sub(r\"she's\",\"she is\",tweet)\n",
    "    tweet = re.sub(r\"he's\",\"he is\",tweet)\n",
    "    tweet = re.sub(r\"they're\",\"they are\",tweet)\n",
    "    tweet = re.sub(r\"who're\",\"who are\",tweet)\n",
    "    tweet = re.sub(r\"ain't\",\"am not\",tweet)\n",
    "    tweet = re.sub(r\"wouldn't\",\"would not\",tweet)\n",
    "    tweet = re.sub(r\"shouldn't\",\"should not\",tweet)\n",
    "    tweet = re.sub(r\"won't\",\"will not\",tweet)\n",
    "    tweet = re.sub(r'\\W',' ',tweet)\n",
    "    tweet = re.sub(r'\\d',' ',tweet)\n",
    "    tweet = re.sub(r's+[a-z]\\s',' ',tweet)\n",
    "    tweet = re.sub(r'^[a-z]\\s+',' ',tweet)\n",
    "    tweet = re.sub(r'\\s+[a-z]$',' ',tweet)\n",
    "    tweet = re.sub(r'\\s+',' ',tweet)\n",
    "    sent = clf.predict(vectorizer.transform([tweet]).toarray())\n",
    "    print(tweet,\":\",sent)\n",
    "    if sent[0] == 1:\n",
    "        total_pos += 1\n",
    "    else:\n",
    "        total_neg += 1"
   ]
  },
  {
   "cell_type": "code",
   "execution_count": 44,
   "metadata": {},
   "outputs": [
    {
     "data": {
      "image/png": "[encoded data removed]",
      "text/plain": [
       "<Figure size 432x288 with 1 Axes>"
      ]
     },
     "metadata": {
      "needs_background": "light"
     },
     "output_type": "display_data"
    }
   ],
   "source": [
    "import matplotlib.pyplot as plt\n",
    "import numpy as np\n",
    "objects = ['Positive','Negative']\n",
    "y_pos = np.arange(len(objects))\n",
    "plt.bar(y_pos,[total_pos,total_neg],alpha=0.9)\n",
    "plt.xticks(y_pos,objects)\n",
    "plt.xlabel(\"Different tweets\")\n",
    "plt.ylabel('NUMBER')\n",
    "plt.title(\"number of positive and negatove tweets\")\n",
    "\n",
    "plt.show()"
   ]
  },
  {
   "cell_type": "code",
   "execution_count": 31,
   "metadata": {},
   "outputs": [
    {
     "data": {
      "text/plain": [
       "array([1])"
      ]
     },
     "execution_count": 31,
     "metadata": {},
     "output_type": "execute_result"
    }
   ],
   "source": [
    "#plot\n",
    "clf.predict(vectorizer.transform([\"lets live seperately\"]))\n"
   ]
  },
  {
   "cell_type": "code",
   "execution_count": null,
   "metadata": {},
   "outputs": [],
   "source": []
  }
 ],
 "metadata": {
  "kernelspec": {
   "display_name": "Python 3",
   "language": "python",
   "name": "python3"
  },
  "language_info": {
   "codemirror_mode": {
    "name": "ipython",
    "version": 3
   },
   "file_extension": ".py",
   "mimetype": "text/x-python",
   "name": "python",
   "nbconvert_exporter": "python",
   "pygments_lexer": "ipython3",
   "version": "3.6.8"
  }
 },
 "nbformat": 4,
 "nbformat_minor": 2
}
