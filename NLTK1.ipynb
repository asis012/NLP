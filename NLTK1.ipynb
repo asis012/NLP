{
 "cells": [
  {
   "cell_type": "code",
   "execution_count": 71,
   "metadata": {},
   "outputs": [],
   "source": [
    "import nltk\n",
    "from nltk.tokenize import word_tokenize\n",
    "from nltk.tokenize import sent_tokenize\n",
    "from nltk.tokenize import word_tokenize\n",
    "from nltk.tokenize import TreebankWordTokenizer\n",
    "import nltk.data\n",
    "import re"
   ]
  },
  {
   "cell_type": "code",
   "execution_count": 106,
   "metadata": {},
   "outputs": [
    {
     "name": "stdout",
     "output_type": "stream",
     "text": [
      "<_sre.SRE_Match object; span=(0, 73), match='hell5 my name ashish am currently involve in CE. >\n",
      "<_sre.SRE_Match object; span=(0, 4), match='hell'>\n"
     ]
    },
    {
     "data": {
      "text/plain": [
       "<_sre.SRE_Match object; span=(0, 73), match='hell5 my name ashish am currently involve in CE. >"
      ]
     },
     "execution_count": 106,
     "metadata": {},
     "output_type": "execute_result"
    }
   ],
   "source": [
    "parag = \"hell5 my name ashish am currently involve in CE. ashish gywalqwi 1996. i \"\n",
    "tokenizer = nltk.data.load('/Users/ashishgyawali/nltk_data/tokenizers/punkt/english.pickle')\n",
    "#cd\n",
    " \n",
    "#matrch    \n",
    "print(re.match(r\".*\",parag))\n",
    "print(re.match(r\"[a-zA-Z ]+\",parag))\n",
    "re.match(r\"[a-zA-Z\\d .]+\",parag)\n"
   ]
  },
  {
   "cell_type": "code",
   "execution_count": 99,
   "metadata": {},
   "outputs": [
    {
     "name": "stdout",
     "output_type": "stream",
     "text": [
      "I love justice league justice league\n",
      "0 0 0 0\n",
      "0 0ove avengers avengers\n"
     ]
    }
   ],
   "source": [
    "sentence = \"hello my name is ashish in 1998\"\n",
    "re.match(r\"[a-zA-Z\\d]*\",sentence)\n",
    "re.match(r\"[\\d ]*\",sentence)\n",
    "\n",
    "sentenc = \"I love avengers avengers\"\n",
    "print(re.sub(r\"avengers\",\"justice league\",sentenc))\n",
    "\n",
    "print(re.sub(r\"[a-z]\",\"0\",sentenc,flags=re.I))\n",
    "print(re.sub(r\"[a-z]\",\"0\",sentenc,2,flags=re.I))\n",
    "\n",
    "\n"
   ]
  },
  {
   "cell_type": "code",
   "execution_count": 126,
   "metadata": {},
   "outputs": [
    {
     "name": "stdout",
     "output_type": "stream",
     "text": [
      "welcome to my tutorials \n",
      "What !^&* a re WEE gonna study at you palace\n",
      "What re WEE gonna study at you palace\n"
     ]
    }
   ],
   "source": [
    "sen1 = \"welcome to my tutorials 456\"\n",
    "sen2 = \"What %!@#$%^&* a re WEE gonna study at @you palace\"\n",
    "sen3 = \"i        love         you\"\n",
    "\n",
    "sen1_modified = re.sub(r\"\\d\",\"\",sen1)\n",
    "print(sen1_modified)\n",
    "\n",
    "sen2_modified = re.sub(r\"[@#$%\\.]\",\"\",sen2)\n",
    "print(sen2_modified)\n",
    "\n",
    "sen2_modified = re.sub(r\"\\W\",\" \",sen2)\n",
    "sen2_modified = re.sub(r\"\\s+\",\" \",sen2_modified)\n",
    "sen2_modified = re.sub(r\"\\s+[a-zA-z]\\s+\",\" \",sen2_modified)\n",
    "print(sen2_modified)"
   ]
  },
  {
   "cell_type": "code",
   "execution_count": 156,
   "metadata": {},
   "outputs": [
    {
     "name": "stdout",
     "output_type": "stream",
     "text": [
      "['This ia wolf scary', 'Welcome to my tutorials', 'the numbe is', 'Rememebr the name Ashish']\n"
     ]
    }
   ],
   "source": [
    "x =[\"This ia a wolf #scary\",\n",
    "   \"Welcome to my tutorials\",\n",
    "   \"123 the numbe is ??\",\n",
    "   \"Rememebr the name s - Ashish\"]\n",
    "\n",
    "for i in range(len(x)):\n",
    "     x[i] = re.sub(r\"\\W\",\" \",x[i])\n",
    "     x[i] = re.sub(r\"\\d\",\" \",x[i])\n",
    "     x[i] = re.sub(r\"\\s+[a-zA-z]\\s+\",\" \",x[i])\n",
    "     x[i] = re.sub(\"\\s+\",\" \",x[i])\n",
    "     x[i] = re.sub(\"^\\s\",\"\",x[i])\n",
    "     x[i] = re.sub(\"\\s$\",\"\",x[i])\n",
    "print(x)"
   ]
  },
  {
   "cell_type": "code",
   "execution_count": 157,
   "metadata": {},
   "outputs": [],
   "source": []
  },
  {
   "cell_type": "code",
   "execution_count": 155,
   "metadata": {},
   "outputs": [
    {
     "name": "stdout",
     "output_type": "stream",
     "text": [
      "['Rememebr', 'the', 'name', 'Ashish']\n"
     ]
    }
   ],
   "source": [
    "paragg = \"A paragraph is a series of sentences that are organized and coherent, and are all related to a single topic. Almost every piece of writing you do that is longer than a few sentences should be organized into paragraphs.\"\n",
    "myarray = ['car','bus']\n",
    "#myarray = sent_tokenize(parag)\n",
    "for i in range(len(x)):\n",
    "    myarray = word_tokenize(x[i])\n",
    "array = word_tokenize(paragg)\n",
    "print(myarray)\n",
    "#array[2]\n",
    "\n",
    "#myarray\n",
    "#myarray[1]\n",
    "#tokenizer\n"
   ]
  },
  {
   "cell_type": "code",
   "execution_count": 64,
   "metadata": {},
   "outputs": [
    {
     "data": {
      "text/plain": [
       "['hell0',\n",
       " 'my',\n",
       " 'name',\n",
       " 'ashish',\n",
       " 'ashish',\n",
       " 'gywali',\n",
       " '.',\n",
       " 'i',\n",
       " 'am',\n",
       " 'currently',\n",
       " 'involve',\n",
       " 'in',\n",
       " 'CE',\n",
       " '.']"
      ]
     },
     "execution_count": 64,
     "metadata": {},
     "output_type": "execute_result"
    }
   ],
   "source": [
    "word_tokenize(parag)"
   ]
  },
  {
   "cell_type": "code",
   "execution_count": 177,
   "metadata": {},
   "outputs": [],
   "source": [
    "import numpy as np"
   ]
  },
  {
   "cell_type": "code",
   "execution_count": 190,
   "metadata": {},
   "outputs": [
    {
     "name": "stdout",
     "output_type": "stream",
     "text": [
      "[0 1 2 3 4 5 6 7 8 9]\n",
      "[1 2 3 4 5 6 7 8 9]\n",
      "[1 3 5 7]\n",
      "[1.  2.1 3.2 4.3 5.4 6.5 7.6 8.7]\n"
     ]
    }
   ],
   "source": [
    "print(np.arange(10))\n",
    "print(np.arange(1,10))\n",
    "print(np.arange(1,9,2))\n",
    "print(np.arange(1,9,dtype='float64'))\n"
   ]
  },
  {
   "cell_type": "code",
   "execution_count": 199,
   "metadata": {},
   "outputs": [
    {
     "name": "stdout",
     "output_type": "stream",
     "text": [
      "(9,)\n",
      "9\n",
      "int64\n",
      "8\n"
     ]
    },
    {
     "data": {
      "text/plain": [
       "72"
      ]
     },
     "execution_count": 199,
     "metadata": {},
     "output_type": "execute_result"
    }
   ],
   "source": [
    "aa = np.arange(1,10)\n",
    "aa.ndim\n",
    "print(aa.shape)\n",
    "print(aa.size)\n",
    "print(aa.dtype)\n",
    "print(aa.itemsize)\n",
    "aa.itemsize*aa.size"
   ]
  },
  {
   "cell_type": "code",
   "execution_count": 200,
   "metadata": {},
   "outputs": [
    {
     "name": "stdout",
     "output_type": "stream",
     "text": [
      "266 ns ± 7 ns per loop (mean ± std. dev. of 7 runs, 1000000 loops each)\n"
     ]
    }
   ],
   "source": [
    "%timeit list1 = range(1,1000)"
   ]
  },
  {
   "cell_type": "code",
   "execution_count": 202,
   "metadata": {},
   "outputs": [
    {
     "name": "stdout",
     "output_type": "stream",
     "text": [
      "1.15 µs ± 28 ns per loop (mean ± std. dev. of 7 runs, 1000000 loops each)\n"
     ]
    }
   ],
   "source": [
    "%timeit list1 = np.arange(1,1000)"
   ]
  },
  {
   "cell_type": "code",
   "execution_count": 251,
   "metadata": {},
   "outputs": [
    {
     "data": {
      "text/plain": [
       "2"
      ]
     },
     "execution_count": 251,
     "metadata": {},
     "output_type": "execute_result"
    }
   ],
   "source": [
    "a = np.asarray([1,2,3,6,4,5])\n",
    "a[1]"
   ]
  },
  {
   "cell_type": "code",
   "execution_count": 205,
   "metadata": {},
   "outputs": [
    {
     "data": {
      "text/plain": [
       "array([[1, 2, 3],\n",
       "       [1, 3, 4]])"
      ]
     },
     "execution_count": 205,
     "metadata": {},
     "output_type": "execute_result"
    }
   ],
   "source": [
    "list2d = [[1,2,3],[1,3,4]]\n",
    "np.asarray(list2d)"
   ]
  },
  {
   "cell_type": "code",
   "execution_count": 208,
   "metadata": {},
   "outputs": [
    {
     "data": {
      "text/plain": [
       "array([[0, 0, 0, 0],\n",
       "       [0, 0, 0, 0],\n",
       "       [0, 0, 0, 0]], dtype=int32)"
      ]
     },
     "execution_count": 208,
     "metadata": {},
     "output_type": "execute_result"
    }
   ],
   "source": [
    "np.zeros((3,4),dtype='int32')"
   ]
  },
  {
   "cell_type": "code",
   "execution_count": 216,
   "metadata": {},
   "outputs": [
    {
     "name": "stdout",
     "output_type": "stream",
     "text": [
      "[1.         1.42857143 1.85714286 2.28571429 2.71428571 3.14285714\n",
      " 3.57142857 4.        ]\n"
     ]
    },
    {
     "data": {
      "text/plain": [
       "array([1.   , 1.375, 1.75 , 2.125, 2.5  , 2.875, 3.25 , 3.625])"
      ]
     },
     "execution_count": 216,
     "metadata": {},
     "output_type": "execute_result"
    }
   ],
   "source": [
    "print(np.linspace(1,4,num=8))\n",
    "np.linspace(1,4,num=8,endpoint=False)"
   ]
  },
  {
   "cell_type": "code",
   "execution_count": 221,
   "metadata": {},
   "outputs": [
    {
     "data": {
      "text/plain": [
       "array([[0.29388411, 0.37581734, 0.98606725, 0.79715009],\n",
       "       [0.63169975, 0.93781981, 0.56434419, 0.78573595],\n",
       "       [0.25067426, 0.41083509, 0.73657961, 0.2217798 ]])"
      ]
     },
     "execution_count": 221,
     "metadata": {},
     "output_type": "execute_result"
    }
   ],
   "source": [
    "np.random.random((3,4))\n",
    "#matrix generates"
   ]
  },
  {
   "cell_type": "code",
   "execution_count": 226,
   "metadata": {},
   "outputs": [
    {
     "name": "stdout",
     "output_type": "stream",
     "text": [
      "[[0.86709843 0.1911214  0.08715518 0.42001252]\n",
      " [0.37490911 0.71475952 0.67277985 0.93684888]\n",
      " [0.57509563 0.99789038 0.51357916 0.9358127 ]]\n"
     ]
    },
    {
     "data": {
      "text/plain": [
       "0.997890378242454"
      ]
     },
     "execution_count": 226,
     "metadata": {},
     "output_type": "execute_result"
    }
   ],
   "source": [
    "rarr = np.random.random((3,4))\n",
    "print(rarr)\n",
    "np.max(rarr,axis=0)\n",
    "np.max(rarr)"
   ]
  },
  {
   "cell_type": "code",
   "execution_count": 227,
   "metadata": {},
   "outputs": [
    {
     "data": {
      "text/plain": [
       "array([0.57509563, 0.71475952, 0.51357916, 0.9358127 ])"
      ]
     },
     "execution_count": 227,
     "metadata": {},
     "output_type": "execute_result"
    }
   ],
   "source": [
    "np.median(rarr,axis=0)"
   ]
  },
  {
   "cell_type": "code",
   "execution_count": 228,
   "metadata": {},
   "outputs": [
    {
     "data": {
      "text/plain": [
       "0.08715518021685187"
      ]
     },
     "execution_count": 228,
     "metadata": {},
     "output_type": "execute_result"
    }
   ],
   "source": [
    "np.min(rarr)"
   ]
  },
  {
   "cell_type": "code",
   "execution_count": 230,
   "metadata": {},
   "outputs": [
    {
     "name": "stdout",
     "output_type": "stream",
     "text": [
      "[0.86709843 0.1911214  0.08715518 0.42001252 0.37490911 0.71475952\n",
      " 0.67277985 0.93684888 0.57509563 0.99789038 0.51357916 0.9358127 ]\n"
     ]
    }
   ],
   "source": [
    "new_rarr = np.reshape(rarr,(12,))\n",
    "print(new_rarr)"
   ]
  },
  {
   "cell_type": "code",
   "execution_count": 234,
   "metadata": {},
   "outputs": [
    {
     "name": "stdout",
     "output_type": "stream",
     "text": [
      "[[0.86709843 0.1911214 ]\n",
      " [0.08715518 0.42001252]\n",
      " [0.37490911 0.71475952]\n",
      " [0.67277985 0.93684888]\n",
      " [0.57509563 0.99789038]\n",
      " [0.51357916 0.9358127 ]]\n"
     ]
    }
   ],
   "source": [
    "new_rarr = np.reshape(rarr,(6,2))\n",
    "print(new_rarr)"
   ]
  },
  {
   "cell_type": "code",
   "execution_count": 241,
   "metadata": {},
   "outputs": [
    {
     "name": "stdout",
     "output_type": "stream",
     "text": [
      "[[0.18063431 0.63367424 0.39960151 0.19267851 0.1409109 ]\n",
      " [0.49813999 0.36386036 0.55372478 0.0485179  0.68213872]\n",
      " [0.55428568 0.07597071 0.24948326 0.57466627 0.212484  ]\n",
      " [0.75406589 0.80605757 0.3973453  0.54868671 0.69120892]]\n"
     ]
    },
    {
     "data": {
      "text/plain": [
       "array([[0.18063431, 0.63367424, 0.39960151, 0.19267851, 0.1409109 ]])"
      ]
     },
     "execution_count": 241,
     "metadata": {},
     "output_type": "execute_result"
    }
   ],
   "source": [
    "#slicing\n",
    "rarr= np.random.random((4,5))\n",
    "print(rarr[:,:])\n",
    "rarr[1:3,3:5]\n",
    "rarr[:,1:]\n",
    "rarr[:-1,:]\n",
    "rarr[:-3,:]"
   ]
  },
  {
   "cell_type": "code",
   "execution_count": 247,
   "metadata": {},
   "outputs": [],
   "source": [
    "import pandas as pd"
   ]
  },
  {
   "cell_type": "code",
   "execution_count": 261,
   "metadata": {},
   "outputs": [
    {
     "name": "stdout",
     "output_type": "stream",
     "text": [
      "3\n"
     ]
    }
   ],
   "source": [
    "x = pd.Series([1,2,3,4,5])\n",
    "print(x[2])"
   ]
  },
  {
   "cell_type": "code",
   "execution_count": 269,
   "metadata": {},
   "outputs": [
    {
     "data": {
      "text/plain": [
       "False"
      ]
     },
     "execution_count": 269,
     "metadata": {},
     "output_type": "execute_result"
    }
   ],
   "source": [
    "x1 = x + 100\n",
    "x1 = (x ** 2) + 100\n",
    "x1 = x > 2 #check\n",
    "larger_than_2 = x > 2\n",
    "larger_than_2.any()\n",
    "larger_than_2.all()\n",
    "#print(x1)"
   ]
  },
  {
   "cell_type": "code",
   "execution_count": 291,
   "metadata": {},
   "outputs": [
    {
     "data": {
      "text/plain": [
       "0     3\n",
       "1     4\n",
       "2     9\n",
       "3     8\n",
       "4    15\n",
       "dtype: int64"
      ]
     },
     "execution_count": 291,
     "metadata": {},
     "output_type": "execute_result"
    }
   ],
   "source": [
    "def f(x):\n",
    "    if x % 2 == 0:\n",
    "            return(2 * x)\n",
    "    else:\n",
    "        return(3 * x)\n",
    "x.apply(f)"
   ]
  },
  {
   "cell_type": "code",
   "execution_count": 305,
   "metadata": {},
   "outputs": [
    {
     "data": {
      "text/plain": [
       "0    100\n",
       "1      2\n",
       "2      3\n",
       "3      4\n",
       "4      5\n",
       "dtype: int64"
      ]
     },
     "execution_count": 305,
     "metadata": {},
     "output_type": "execute_result"
    }
   ],
   "source": [
    "x.astype(np.float64)\n",
    "x\n",
    "y = x  \n",
    "y[0] = 100\n",
    "x\n",
    "x = pd.Series([1,2,3,4,5])\n",
    "y = x.copy()\n",
    "y[0] = 100\n",
    "x\n",
    "y\n"
   ]
  },
  {
   "cell_type": "code",
   "execution_count": 338,
   "metadata": {},
   "outputs": [
    {
     "data": {
      "text/html": [
       "<div>\n",
       "<style scoped>\n",
       "    .dataframe tbody tr th:only-of-type {\n",
       "        vertical-align: middle;\n",
       "    }\n",
       "\n",
       "    .dataframe tbody tr th {\n",
       "        vertical-align: top;\n",
       "    }\n",
       "\n",
       "    .dataframe thead th {\n",
       "        text-align: right;\n",
       "    }\n",
       "</style>\n",
       "<table border=\"1\" class=\"dataframe\">\n",
       "  <thead>\n",
       "    <tr style=\"text-align: right;\">\n",
       "      <th></th>\n",
       "      <th>x</th>\n",
       "      <th>x+2</th>\n",
       "    </tr>\n",
       "  </thead>\n",
       "  <tbody>\n",
       "    <tr>\n",
       "      <th>count</th>\n",
       "      <td>8.00000</td>\n",
       "      <td>8.00000</td>\n",
       "    </tr>\n",
       "    <tr>\n",
       "      <th>mean</th>\n",
       "      <td>4.50000</td>\n",
       "      <td>6.50000</td>\n",
       "    </tr>\n",
       "    <tr>\n",
       "      <th>std</th>\n",
       "      <td>2.44949</td>\n",
       "      <td>2.44949</td>\n",
       "    </tr>\n",
       "    <tr>\n",
       "      <th>min</th>\n",
       "      <td>1.00000</td>\n",
       "      <td>3.00000</td>\n",
       "    </tr>\n",
       "    <tr>\n",
       "      <th>25%</th>\n",
       "      <td>2.75000</td>\n",
       "      <td>4.75000</td>\n",
       "    </tr>\n",
       "    <tr>\n",
       "      <th>50%</th>\n",
       "      <td>4.50000</td>\n",
       "      <td>6.50000</td>\n",
       "    </tr>\n",
       "    <tr>\n",
       "      <th>75%</th>\n",
       "      <td>6.25000</td>\n",
       "      <td>8.25000</td>\n",
       "    </tr>\n",
       "    <tr>\n",
       "      <th>max</th>\n",
       "      <td>8.00000</td>\n",
       "      <td>10.00000</td>\n",
       "    </tr>\n",
       "  </tbody>\n",
       "</table>\n",
       "</div>"
      ],
      "text/plain": [
       "             x       x+2\n",
       "count  8.00000   8.00000\n",
       "mean   4.50000   6.50000\n",
       "std    2.44949   2.44949\n",
       "min    1.00000   3.00000\n",
       "25%    2.75000   4.75000\n",
       "50%    4.50000   6.50000\n",
       "75%    6.25000   8.25000\n",
       "max    8.00000  10.00000"
      ]
     },
     "execution_count": 338,
     "metadata": {},
     "output_type": "execute_result"
    }
   ],
   "source": [
    "#dataframe\n",
    "data = [1,2,3,4,5,6,7,8]\n",
    "df = pd.DataFrame(data,columns=[\"x\"])\n",
    "df\n",
    "df[\"x+2\"] = df[\"x\"] + 2\n",
    "df[\"x_sq\"] = df[\"x\"] ** 2\n",
    "df = df.drop(\"x_sq\",1)\n",
    "\n",
    "df\n",
    "df.describe()"
   ]
  },
  {
   "cell_type": "code",
   "execution_count": 322,
   "metadata": {},
   "outputs": [
    {
     "data": {
      "text/plain": [
       "0     3\n",
       "1     4\n",
       "2     5\n",
       "3     6\n",
       "4     7\n",
       "5     8\n",
       "6     9\n",
       "7    10\n",
       "Name: x+2, dtype: int64"
      ]
     },
     "execution_count": 322,
     "metadata": {},
     "output_type": "execute_result"
    }
   ],
   "source": [
    "dataseries = df[\"x+2\"]\n",
    "dataseries"
   ]
  },
  {
   "cell_type": "code",
   "execution_count": 349,
   "metadata": {},
   "outputs": [
    {
     "data": {
      "text/html": [
       "<div>\n",
       "<style scoped>\n",
       "    .dataframe tbody tr th:only-of-type {\n",
       "        vertical-align: middle;\n",
       "    }\n",
       "\n",
       "    .dataframe tbody tr th {\n",
       "        vertical-align: top;\n",
       "    }\n",
       "\n",
       "    .dataframe thead th {\n",
       "        text-align: right;\n",
       "    }\n",
       "</style>\n",
       "<table border=\"1\" class=\"dataframe\">\n",
       "  <thead>\n",
       "    <tr style=\"text-align: right;\">\n",
       "      <th></th>\n",
       "      <th>Match_Id</th>\n",
       "      <th>Match_Date</th>\n",
       "      <th>Team_Name_Id</th>\n",
       "      <th>Opponent_Team_Id</th>\n",
       "      <th>Season_Id</th>\n",
       "      <th>Venue_Name</th>\n",
       "      <th>Toss_Winner_Id</th>\n",
       "      <th>Toss_Decision</th>\n",
       "      <th>IS_Superover</th>\n",
       "      <th>IS_Result</th>\n",
       "      <th>Is_DuckWorthLewis</th>\n",
       "      <th>Win_Type</th>\n",
       "      <th>Won_By</th>\n",
       "      <th>Match_Winner_Id</th>\n",
       "      <th>Man_Of_The_Match_Id</th>\n",
       "      <th>First_Umpire_Id</th>\n",
       "      <th>Second_Umpire_Id</th>\n",
       "      <th>City_Name</th>\n",
       "      <th>Host_Country</th>\n",
       "    </tr>\n",
       "  </thead>\n",
       "  <tbody>\n",
       "    <tr>\n",
       "      <th>0</th>\n",
       "      <td>335987</td>\n",
       "      <td>18-Apr-08</td>\n",
       "      <td>2</td>\n",
       "      <td>1</td>\n",
       "      <td>1</td>\n",
       "      <td>M Chinnaswamy Stadium</td>\n",
       "      <td>2</td>\n",
       "      <td>field</td>\n",
       "      <td>0</td>\n",
       "      <td>1</td>\n",
       "      <td>0</td>\n",
       "      <td>by runs</td>\n",
       "      <td>140.0</td>\n",
       "      <td>1.0</td>\n",
       "      <td>2.0</td>\n",
       "      <td>470</td>\n",
       "      <td>477</td>\n",
       "      <td>Bangalore</td>\n",
       "      <td>India</td>\n",
       "    </tr>\n",
       "    <tr>\n",
       "      <th>1</th>\n",
       "      <td>335988</td>\n",
       "      <td>19-Apr-08</td>\n",
       "      <td>4</td>\n",
       "      <td>3</td>\n",
       "      <td>1</td>\n",
       "      <td>Punjab Cricket Association Stadium, Mohali</td>\n",
       "      <td>3</td>\n",
       "      <td>bat</td>\n",
       "      <td>0</td>\n",
       "      <td>1</td>\n",
       "      <td>0</td>\n",
       "      <td>by runs</td>\n",
       "      <td>33.0</td>\n",
       "      <td>3.0</td>\n",
       "      <td>19.0</td>\n",
       "      <td>471</td>\n",
       "      <td>487</td>\n",
       "      <td>Chandigarh</td>\n",
       "      <td>India</td>\n",
       "    </tr>\n",
       "    <tr>\n",
       "      <th>2</th>\n",
       "      <td>335989</td>\n",
       "      <td>19-Apr-08</td>\n",
       "      <td>6</td>\n",
       "      <td>5</td>\n",
       "      <td>1</td>\n",
       "      <td>Feroz Shah Kotla</td>\n",
       "      <td>5</td>\n",
       "      <td>bat</td>\n",
       "      <td>0</td>\n",
       "      <td>1</td>\n",
       "      <td>0</td>\n",
       "      <td>by wickets</td>\n",
       "      <td>9.0</td>\n",
       "      <td>6.0</td>\n",
       "      <td>90.0</td>\n",
       "      <td>472</td>\n",
       "      <td>512</td>\n",
       "      <td>Delhi</td>\n",
       "      <td>India</td>\n",
       "    </tr>\n",
       "    <tr>\n",
       "      <th>3</th>\n",
       "      <td>335990</td>\n",
       "      <td>20-Apr-08</td>\n",
       "      <td>7</td>\n",
       "      <td>2</td>\n",
       "      <td>1</td>\n",
       "      <td>Wankhede Stadium</td>\n",
       "      <td>7</td>\n",
       "      <td>bat</td>\n",
       "      <td>0</td>\n",
       "      <td>1</td>\n",
       "      <td>0</td>\n",
       "      <td>by wickets</td>\n",
       "      <td>5.0</td>\n",
       "      <td>2.0</td>\n",
       "      <td>11.0</td>\n",
       "      <td>473</td>\n",
       "      <td>476</td>\n",
       "      <td>Mumbai</td>\n",
       "      <td>India</td>\n",
       "    </tr>\n",
       "    <tr>\n",
       "      <th>4</th>\n",
       "      <td>335991</td>\n",
       "      <td>20-Apr-08</td>\n",
       "      <td>1</td>\n",
       "      <td>8</td>\n",
       "      <td>1</td>\n",
       "      <td>Eden Gardens</td>\n",
       "      <td>8</td>\n",
       "      <td>bat</td>\n",
       "      <td>0</td>\n",
       "      <td>1</td>\n",
       "      <td>0</td>\n",
       "      <td>by wickets</td>\n",
       "      <td>5.0</td>\n",
       "      <td>1.0</td>\n",
       "      <td>4.0</td>\n",
       "      <td>474</td>\n",
       "      <td>486</td>\n",
       "      <td>Kolkata</td>\n",
       "      <td>India</td>\n",
       "    </tr>\n",
       "  </tbody>\n",
       "</table>\n",
       "</div>"
      ],
      "text/plain": [
       "   Match_Id Match_Date  Team_Name_Id  Opponent_Team_Id  Season_Id  \\\n",
       "0    335987  18-Apr-08             2                 1          1   \n",
       "1    335988  19-Apr-08             4                 3          1   \n",
       "2    335989  19-Apr-08             6                 5          1   \n",
       "3    335990  20-Apr-08             7                 2          1   \n",
       "4    335991  20-Apr-08             1                 8          1   \n",
       "\n",
       "                                   Venue_Name  Toss_Winner_Id Toss_Decision  \\\n",
       "0                       M Chinnaswamy Stadium               2         field   \n",
       "1  Punjab Cricket Association Stadium, Mohali               3           bat   \n",
       "2                            Feroz Shah Kotla               5           bat   \n",
       "3                            Wankhede Stadium               7           bat   \n",
       "4                                Eden Gardens               8           bat   \n",
       "\n",
       "   IS_Superover  IS_Result  Is_DuckWorthLewis    Win_Type  Won_By  \\\n",
       "0             0          1                  0     by runs   140.0   \n",
       "1             0          1                  0     by runs    33.0   \n",
       "2             0          1                  0  by wickets     9.0   \n",
       "3             0          1                  0  by wickets     5.0   \n",
       "4             0          1                  0  by wickets     5.0   \n",
       "\n",
       "   Match_Winner_Id  Man_Of_The_Match_Id  First_Umpire_Id  Second_Umpire_Id  \\\n",
       "0              1.0                  2.0              470               477   \n",
       "1              3.0                 19.0              471               487   \n",
       "2              6.0                 90.0              472               512   \n",
       "3              2.0                 11.0              473               476   \n",
       "4              1.0                  4.0              474               486   \n",
       "\n",
       "    City_Name Host_Country  \n",
       "0   Bangalore        India  \n",
       "1  Chandigarh        India  \n",
       "2       Delhi        India  \n",
       "3      Mumbai        India  \n",
       "4     Kolkata        India  "
      ]
     },
     "execution_count": 349,
     "metadata": {},
     "output_type": "execute_result"
    }
   ],
   "source": [
    "datasets = pd.read_csv('match.csv')\n",
    "datasets.head()"
   ]
  },
  {
   "cell_type": "code",
   "execution_count": null,
   "metadata": {},
   "outputs": [],
   "source": []
  }
 ],
 "metadata": {
  "kernelspec": {
   "display_name": "Python 3",
   "language": "python",
   "name": "python3"
  },
  "language_info": {
   "codemirror_mode": {
    "name": "ipython",
    "version": 3
   },
   "file_extension": ".py",
   "mimetype": "text/x-python",
   "name": "python",
   "nbconvert_exporter": "python",
   "pygments_lexer": "ipython3",
   "version": "3.6.8"
  }
 },
 "nbformat": 4,
 "nbformat_minor": 2
}
