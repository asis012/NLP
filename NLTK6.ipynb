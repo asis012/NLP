{
 "cells": [
  {
   "cell_type": "code",
   "execution_count": 82,
   "metadata": {},
   "outputs": [],
   "source": [
    "#wordnet ??\n",
    "from nltk.corpus import wordnet\n"
   ]
  },
  {
   "cell_type": "code",
   "execution_count": 89,
   "metadata": {},
   "outputs": [
    {
     "name": "stdout",
     "output_type": "stream",
     "text": [
      "{'felicitous', 'well-chosen', 'glad', 'happy'}\n",
      "\n",
      "\n",
      "{'unhappy'}\n"
     ]
    }
   ],
   "source": [
    "synonyms = []\n",
    "antonyms = []\n",
    "for syn in wordnet.synsets(\"happy\"):\n",
    "    for s in syn.lemmas():\n",
    "        synonyms.append(s.name())\n",
    "        for a in s.antonyms():\n",
    "            antonyms.append(a.name())\n",
    "print(set(synonyms))\n",
    "print(\"\\n\")\n",
    "print(set(antonyms))"
   ]
  },
  {
   "cell_type": "code",
   "execution_count": 88,
   "metadata": {},
   "outputs": [
    {
     "data": {
      "text/plain": [
       "[Lemma('felicitous.s.02.felicitous'), Lemma('felicitous.s.02.happy')]"
      ]
     },
     "execution_count": 88,
     "metadata": {},
     "output_type": "execute_result"
    }
   ],
   "source": [
    "a = wordnet.synsets(\"happy\")\n",
    "b = a[1].lemmas()\n",
    "c = b[0].antonyms()\n",
    "c\n",
    "b"
   ]
  },
  {
   "cell_type": "code",
   "execution_count": 92,
   "metadata": {},
   "outputs": [
    {
     "name": "stdout",
     "output_type": "stream",
     "text": [
      "I was not_happy with team performance\n"
     ]
    }
   ],
   "source": [
    "#word negation\n",
    "#joining with _\n",
    "import nltk\n",
    "sentence = \"I was not happy with team performance\"\n",
    "words = nltk.word_tokenize(sentence)\n",
    "new_words = []\n",
    "temp_word = \"\"\n",
    "for word in words:\n",
    "    \n",
    "    if word == \"not\":\n",
    "        #print(word)\n",
    "        \n",
    "        temp_word = \"not_\"\n",
    "    elif temp_word == \"not_\":\n",
    "        #print(word)\n",
    "        word = temp_word + word\n",
    "        #print(word)\n",
    "        temp_word = \"\"\n",
    "        \n",
    "    if word != \"not\":\n",
    "        #print(word)\n",
    "        new_words.append(word)\n",
    "        \n",
    "sentence = ' '.join(new_words)\n",
    "print(sentence)\n"
   ]
  },
  {
   "cell_type": "code",
   "execution_count": 95,
   "metadata": {},
   "outputs": [
    {
     "name": "stdout",
     "output_type": "stream",
     "text": [
      "I was unhappy with team performance\n"
     ]
    }
   ],
   "source": [
    "#using anantonyms of a word\n",
    "import nltk\n",
    "sentence = \"I was not happy with team performance\"\n",
    "words = nltk.word_tokenize(sentence)\n",
    "new_words = []\n",
    "temp_word = \"\"\n",
    "for word in words:\n",
    "    antonyms = []\n",
    "    if word == \"not\":\n",
    "        temp_word = \"not_\"\n",
    "    elif temp_word == \"not_\":\n",
    "        \n",
    "        for syn in wordnet.synsets(word):\n",
    "            for s in syn.lemmas():\n",
    "        \n",
    "                for a in s.antonyms():\n",
    "                    antonyms.append(a.name())\n",
    "        #print(len(antonyms))\n",
    "        if len(antonyms)>=1:\n",
    "            #print(antonyms[0])\n",
    "            word = antonyms[0]\n",
    "        else:\n",
    "            word = temp_word + word\n",
    "        temp_word = \"\"\n",
    "        \n",
    "    if word != \"not\":\n",
    "        \n",
    "        new_words.append(word)\n",
    "        \n",
    "sentence = ' '.join(new_words)\n",
    "print(sentence)"
   ]
  },
  {
   "cell_type": "code",
   "execution_count": null,
   "metadata": {},
   "outputs": [],
   "source": []
  }
 ],
 "metadata": {
  "kernelspec": {
   "display_name": "Python 3",
   "language": "python",
   "name": "python3"
  },
  "language_info": {
   "codemirror_mode": {
    "name": "ipython",
    "version": 3
   },
   "file_extension": ".py",
   "mimetype": "text/x-python",
   "name": "python",
   "nbconvert_exporter": "python",
   "pygments_lexer": "ipython3",
   "version": "3.6.8"
  }
 },
 "nbformat": 4,
 "nbformat_minor": 2
}
